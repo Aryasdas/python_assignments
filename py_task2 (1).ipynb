{
 "cells": [
  {
   "cell_type": "code",
   "execution_count": 1,
   "id": "7070e9fc-5d83-4f7a-b213-0fbbfdc50963",
   "metadata": {},
   "outputs": [
    {
     "name": "stdin",
     "output_type": "stream",
     "text": [
      "Enter your password:  abc1234\n"
     ]
    },
    {
     "name": "stdout",
     "output_type": "stream",
     "text": [
      "Invalid Password\n"
     ]
    }
   ],
   "source": [
    "#Q1. You are writing code for a company. The requirement of the company is that you create a python\n",
    "#function that will check whether the password entered by the user is correct or not. The function should\n",
    "#take the password as input and return the string “Valid Password” if the entered password follows the\n",
    "#below-given password guidelines else it should return “Invalid Password”.\n",
    "#Note: 1. The Password should contain at least two uppercase letters and at least two lowercase letters.\n",
    "#2. The Password should contain at least a number and three special characters.\n",
    "#3. The length of the password should be 10 characters long.\n",
    "\n",
    "#Here's a Python function that checks whether a password meets the given guidelines:\n",
    "\n",
    "\n",
    "def check_password(password):\n",
    "    # Check if the password length is 10 characters\n",
    "    if len(password) != 10:\n",
    "        return \"Invalid Password\"\n",
    "    \n",
    "    # Count the number of uppercase letters, lowercase letters, digits, and special characters\n",
    "    upper_count = sum(1 for char in password if char.isupper())\n",
    "    lower_count = sum(1 for char in password if char.islower())\n",
    "    digit_count = sum(1 for char in password if char.isdigit())\n",
    "    special_count = sum(1 for char in password if not char.isalnum())\n",
    "    \n",
    "    # Check if the counts meet the guidelines\n",
    "    if (upper_count < 2) or (lower_count < 2) or (digit_count < 1) or (special_count < 3):\n",
    "        return \"Invalid Password\"\n",
    "    \n",
    "    # If all conditions are met, return \"Valid Password\"\n",
    "    return \"Valid Password\"\n",
    "\n",
    "# Test the function\n",
    "password = input(\"Enter your password: \")\n",
    "print(check_password(password))\n",
    "\n",
    "\n",
    "#Explanation:\n",
    "# The function `check_password` takes a password as input.\n",
    "# It first checks if the length of the password is 10 characters. If not, it immediately returns \"Invalid Password\".\n",
    "# Then, it counts the number of uppercase letters, lowercase letters, digits, and special characters in the password.\n",
    "# It checks if each count meets the guidelines specified in the requirements.\n",
    "# If all conditions are met, it returns \"Valid Password\". Otherwise, it returns \"Invalid Password\".\n",
    "\n",
    "#You can test this function by calling it with different passwords to see if it correctly identifies them as valid or invalid according to the guidelines."
   ]
  },
  {
   "cell_type": "code",
   "execution_count": 6,
   "id": "366330c1-bed2-4ee7-bca0-ed89c1f4b215",
   "metadata": {},
   "outputs": [
    {
     "name": "stdout",
     "output_type": "stream",
     "text": [
      "Starts with 'a': True\n",
      "Is numeric: True\n",
      "Sorted fruits: [('orange', 80), ('mango', 99), ('grapes', 1000)]\n",
      "Squares: [1, 4, 9, 16, 25, 36, 49, 64, 81, 100]\n",
      "Squares: [1, 4, 9, 16, 25, 36, 49, 64, 81, 100]\n",
      "Is even: True\n",
      "Odd numbers: [1, 3, 5, 7, 9]\n",
      "Positive numbers: [1, 2, 3, 4, 5, 6]\n",
      "Negative numbers: [-1, -2, -3, -4, -5]\n"
     ]
    }
   ],
   "source": [
    "#Q2. Solve the below-given questions using at least one of the following:\n",
    "#1. Lambda functioJ\n",
    "#2. Filter functioJ\n",
    "#3. Zap functioJ\n",
    "#4. List ComprehensioI\n",
    "#B Check if the string starts with a particular letterY\n",
    "#B Check if the string is numericY\n",
    "#B Sort a list of tuples having fruit names and their quantity. [(\"mango\",99),(\"orange\",80), (\"grapes\", 1000)-\n",
    "#B Find the squares of numbers from 1 to 10Y\n",
    "#B Find the cube root of numbers from 1 to 10Y\n",
    "#B Check if a given number is evenY\n",
    "#B Filter odd numbers from the given list.\n",
    "#[1,2,3,4,5,6,7,8,9,10-\n",
    "#B Sort a list of integers into positive and negative integers lists.\n",
    "#[1,2,3,4,5,6,-1,-2,-3,-4,-5,0]'\n",
    "\n",
    "\n",
    "#Let's solve each question using the specified functions:\n",
    "\n",
    "#Check if the string starts with a particular letter:\n",
    "# Using lambda function and filter function\n",
    "starts_with_letter = lambda string, letter: string.startswith(letter)\n",
    "result = starts_with_letter(\"apple\", \"a\")\n",
    "print(\"Starts with 'a':\", result)\n",
    "#Check if the string is numeric:\n",
    "# Using lambda function and filter function\n",
    "is_numeric = lambda string: string.isnumeric()\n",
    "result = is_numeric(\"12345\")\n",
    "print(\"Is numeric:\", result)\n",
    "#Sort a list of tuples having fruit names and their quantity:\n",
    "# Using list comprehension\n",
    "fruits = [(\"mango\",99),(\"orange\",80), (\"grapes\", 1000)]\n",
    "sorted_fruits = sorted(fruits, key=lambda x: x[1])\n",
    "print(\"Sorted fruits:\", sorted_fruits)\n",
    "#Find the squares of numbers from 1 to 10:\n",
    "# Using list comprehension\n",
    "squares = [x**2 for x in range(1, 11)]\n",
    "print(\"Squares:\", squares)\n",
    "## Using list comprehension\n",
    "squares = [x**2 for x in range(1, 11)]\n",
    "print(\"Squares:\", squares)\n",
    "#Check if a given number is even:\n",
    "# Using lambda function and filter function\n",
    "is_even = lambda num: num % 2 == 0\n",
    "result = is_even(10)\n",
    "print(\"Is even:\", result)\n",
    "#Filter odd numbers from the given list:\n",
    "# Using lambda function and filter function\n",
    "numbers = [1,2,3,4,5,6,7,8,9,10]\n",
    "odd_numbers = list(filter(lambda x: x % 2 != 0, numbers))\n",
    "print(\"Odd numbers:\", odd_numbers)\n",
    "#Sort a list of integers into positive and negative integers lists:\n",
    "# Using list comprehension\n",
    "numbers = [1,2,3,4,5,6,-1,-2,-3,-4,-5,0]\n",
    "positive_numbers = [x for x in numbers if x > 0]\n",
    "negative_numbers = [x for x in numbers if x < 0]\n",
    "print(\"Positive numbers:\", positive_numbers)\n",
    "print(\"Negative numbers:\", negative_numbers)"
   ]
  },
  {
   "cell_type": "code",
   "execution_count": null,
   "id": "b27020a6-6205-404d-a669-b8965a24d42c",
   "metadata": {},
   "outputs": [],
   "source": []
  }
 ],
 "metadata": {
  "kernelspec": {
   "display_name": "Python 3 (ipykernel)",
   "language": "python",
   "name": "python3"
  },
  "language_info": {
   "codemirror_mode": {
    "name": "ipython",
    "version": 3
   },
   "file_extension": ".py",
   "mimetype": "text/x-python",
   "name": "python",
   "nbconvert_exporter": "python",
   "pygments_lexer": "ipython3",
   "version": "3.10.8"
  }
 },
 "nbformat": 4,
 "nbformat_minor": 5
}
