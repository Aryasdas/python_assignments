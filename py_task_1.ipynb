{
 "cells": [
  {
   "cell_type": "code",
   "execution_count": 3,
   "id": "179f098c-1f80-4c33-a8a6-c81ff8dba86e",
   "metadata": {},
   "outputs": [
    {
     "name": "stdout",
     "output_type": "stream",
     "text": [
      "Product of all numbers in the list: 0\n"
     ]
    }
   ],
   "source": [
    "#Q1. Create a function which will take a list as an argument and return the product of all the numbers after creating a flat list.\n",
    "#Use the below-given list as an argument for your function.\n",
    "#list1 = [1,2,3,4, [44,55,66, True], False, (34,56,78,89,34), {1,2,3,3,2,1}, {1:34, \"key2\": [55, 67, 78, 89], 4: (45,22, 61, 34)}, [56, 'data science'], 'Machine Learning']\n",
    "#Note: you must extract numeric keys and values of the dictionary also.\n",
    "#To solve this problem, we'll create a function that takes a list as an argument, flattens the list to remove nested lists, and then calculates the product of all the numbers in the flattened list.\n",
    "\n",
    "#Here's how we can implement the function:\n",
    "\n",
    "\n",
    "def flatten_list(lst):\n",
    "    flattened_list = []\n",
    "    for item in lst:\n",
    "        if isinstance(item, (list, tuple, set)):\n",
    "            flattened_list.extend(flatten_list(item))\n",
    "        elif isinstance(item, dict):\n",
    "            for value in item.values():\n",
    "                flattened_list.extend(flatten_list([value]))\n",
    "        elif isinstance(item, (int, float)):\n",
    "            flattened_list.append(item)\n",
    "    return flattened_list\n",
    "\n",
    "def product_of_numbers(lst):\n",
    "    flattened_list = flatten_list(lst)\n",
    "    product = 1\n",
    "    for num in flattened_list:\n",
    "        product *= num\n",
    "    return product\n",
    "\n",
    "# Test the function with the given list\n",
    "list1 = [1,2,3,4, [44,55,66, True], False, (34,56,78,89,34), {1,2,3,3,2,1}, {1:34, \"key2\": [55, 67, 78, 89], 4: (45, 22, 61, 34)}, [56, 'data science'], 'Machine Learning']\n",
    "result = product_of_numbers(list1)\n",
    "print(\"Product of all numbers in the list:\", result)\n",
    "\n",
    "#This code defines two functions:\n",
    "# `flatten_list(lst)`: This function takes a list as input and returns a flattened version of the list by recursively flattening any nested lists, tuples, sets, and extracting numeric values from dictionaries.\n",
    "#2. `product_of_numbers(lst)`: This function takes a list as input, calls `flatten_list` to flatten the list, and then calculates the product of all numbers in the flattened list.\n",
    "\n",
    "#Finally, we test the function with the given `list1` and print the result.\n"
   ]
  },
  {
   "cell_type": "code",
   "execution_count": 4,
   "id": "83222d60-db25-493d-9b0c-28dbc8d1631f",
   "metadata": {},
   "outputs": [
    {
     "name": "stdout",
     "output_type": "stream",
     "text": [
      "Encrypted message: r$dzmg$gl$yvxlnv$z$wzgz$hxrvmgrhg.\n"
     ]
    }
   ],
   "source": [
    "#Q2. Write a python program for encrypting a message sent to you by your friend. The logic of encryption\n",
    "#should be such that, for a the output should be z. For b, the output should be y. For c, the output should\n",
    "#be x respectively. Also, the whitespace should be replaced with a dollar sign. Keep the punctuation\n",
    "#marks unchanged.\n",
    "#Input Sentence: I want to become a Data Scientist.\n",
    "#Encrypt the above input sentence using the program you just created.\n",
    "#Note: Convert the given input sentence into lowercase before encrypting. The final output should be lowercase.\n",
    "\n",
    "\n",
    "def encrypt_message(message):\n",
    "    encrypted_message = \"\"\n",
    "    for char in message:\n",
    "        if char.isalpha():  # Check if the character is a letter\n",
    "            if char.islower():\n",
    "                encrypted_char = chr(ord('z') - (ord(char) - ord('a')))\n",
    "            else:\n",
    "                encrypted_char = chr(ord('Z') - (ord(char) - ord('A')))\n",
    "        elif char.isspace():  # Check if the character is a whitespace\n",
    "            encrypted_char = '$'\n",
    "        else:\n",
    "            encrypted_char = char  # Keep punctuation marks unchanged\n",
    "        encrypted_message += encrypted_char\n",
    "    return encrypted_message\n",
    "\n",
    "# Input sentence\n",
    "input_sentence = \"I want to become a Data Scientist.\"\n",
    "\n",
    "# Convert input sentence to lowercase\n",
    "input_sentence_lower = input_sentence.lower()\n",
    "\n",
    "# Encrypt the input sentence\n",
    "encrypted_sentence = encrypt_message(input_sentence_lower)\n",
    "\n",
    "# Print the encrypted sentence\n",
    "print(\"Encrypted message:\", encrypted_sentence)\n",
    "\n",
    "\n",
    "#Explanation:\n",
    "\n",
    "#We define a function encrypt_message that takes a message as input and returns the encrypted message.\n",
    "#Inside the function, we iterate over each character in the message.\n",
    "#For each letter, we calculate its corresponding letter from the opposite end of the alphabet.\n",
    "#Whitespace characters are replaced with a dollar sign ('$').\n",
    "#Punctuation marks are kept unchanged.\n",
    "#We convert the input sentence to lowercase before encryption.\n",
    "#Finally, we print the encrypted message."
   ]
  },
  {
   "cell_type": "code",
   "execution_count": null,
   "id": "8f5c7361-3ab7-46b5-b516-02be393fe51a",
   "metadata": {},
   "outputs": [],
   "source": []
  }
 ],
 "metadata": {
  "kernelspec": {
   "display_name": "Python 3 (ipykernel)",
   "language": "python",
   "name": "python3"
  },
  "language_info": {
   "codemirror_mode": {
    "name": "ipython",
    "version": 3
   },
   "file_extension": ".py",
   "mimetype": "text/x-python",
   "name": "python",
   "nbconvert_exporter": "python",
   "pygments_lexer": "ipython3",
   "version": "3.10.8"
  }
 },
 "nbformat": 4,
 "nbformat_minor": 5
}
